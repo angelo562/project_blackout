{
 "cells": [
  {
   "cell_type": "code",
   "execution_count": 64,
   "metadata": {},
   "outputs": [],
   "source": [
    "import pandas as pd\n",
    "from openpyxl import load_workbook\n",
    "from openpyxl.styles import PatternFill\n",
    "import os\n",
    "import datetime as dt"
   ]
  },
  {
   "cell_type": "code",
   "execution_count": 65,
   "metadata": {},
   "outputs": [
    {
     "data": {
      "text/plain": [
       "'Shift Admin Buddy.  Designed to give schedule stats\\n\\ninput: Group Shift stats in excel format\\noutput: Excel format?\\n\\nSheet with Holiday stats, for last 2 years starting fiscal 4th quarter, 10/1\\n\\nInclude Major holidays, minor holidays, weekends, nights\\n\\n'"
      ]
     },
     "execution_count": 65,
     "metadata": {},
     "output_type": "execute_result"
    }
   ],
   "source": [
    "\"\"\"Shift Admin Buddy.  Designed to give schedule stats\n",
    "\n",
    "input: Group Shift stats in excel format\n",
    "output: Excel format?\n",
    "\n",
    "Sheet with Holiday stats, for last 2 years starting fiscal 4th quarter, 10/1\n",
    "\n",
    "Include Major holidays, minor holidays, weekends, nights\n",
    "\n",
    "\"\"\"\n",
    "\n"
   ]
  },
  {
   "cell_type": "code",
   "execution_count": 66,
   "metadata": {},
   "outputs": [],
   "source": [
    "# For input in excel format.  \n",
    "# Should denote when file was uploaded?\n",
    "# Potentially add in Main rose sites later, but for now only NH\n",
    "\n",
    "def return_path():\n",
    "    inp1 = input(f\"Please input location path of group shift stats: \")\n",
    "    path1 = os.path.abspath(inp1.strip(' \\\"'))\n",
    "\n",
    "    return fr\"{path1}\"\n",
    "df = pd.read_excel(return_path() , header=1)\n"
   ]
  },
  {
   "cell_type": "code",
   "execution_count": 67,
   "metadata": {},
   "outputs": [
    {
     "name": "stdout",
     "output_type": "stream",
     "text": [
      "<class 'pandas.core.frame.DataFrame'>\n",
      "RangeIndex: 6399 entries, 0 to 6398\n",
      "Data columns (total 9 columns):\n",
      " #   Column     Non-Null Count  Dtype  \n",
      "---  ------     --------------  -----  \n",
      " 0   Provider   6399 non-null   object \n",
      " 1   Facility   6399 non-null   object \n",
      " 2   Shift      6398 non-null   object \n",
      " 3   Date       6398 non-null   object \n",
      " 4   Day        6398 non-null   object \n",
      " 5   Time       6398 non-null   object \n",
      " 6   Work Hrs   6398 non-null   float64\n",
      " 7   Sched Hrs  6398 non-null   float64\n",
      " 8   Comments   52 non-null     object \n",
      "dtypes: float64(2), object(7)\n",
      "memory usage: 450.1+ KB\n"
     ]
    }
   ],
   "source": [
    "df.info()"
   ]
  },
  {
   "cell_type": "code",
   "execution_count": 68,
   "metadata": {},
   "outputs": [
    {
     "data": {
      "text/plain": [
       "1"
      ]
     },
     "execution_count": 68,
     "metadata": {},
     "output_type": "execute_result"
    }
   ],
   "source": [
    "df.Date.isna().sum()"
   ]
  },
  {
   "cell_type": "code",
   "execution_count": 69,
   "metadata": {},
   "outputs": [],
   "source": [
    "# removes NaN, sets it to df\n",
    "df = df.query('not Date.isna()').reset_index(drop=True)  "
   ]
  },
  {
   "cell_type": "code",
   "execution_count": 70,
   "metadata": {},
   "outputs": [
    {
     "data": {
      "text/plain": [
       "Index(['Provider', 'Facility', 'Shift', 'Date', 'Day', 'Time', 'Work Hrs',\n",
       "       'Sched Hrs', 'Comments'],\n",
       "      dtype='object')"
      ]
     },
     "execution_count": 70,
     "metadata": {},
     "output_type": "execute_result"
    }
   ],
   "source": [
    "df.columns"
   ]
  },
  {
   "cell_type": "code",
   "execution_count": 71,
   "metadata": {},
   "outputs": [],
   "source": [
    "df = df.rename(columns={\n",
    "    'Work Hrs' : 'Work_hrs',\n",
    "    'Sched Hrs': 'Scheduled_hrs',\n",
    "})"
   ]
  },
  {
   "cell_type": "code",
   "execution_count": 72,
   "metadata": {},
   "outputs": [
    {
     "data": {
      "text/html": [
       "<div>\n",
       "<style scoped>\n",
       "    .dataframe tbody tr th:only-of-type {\n",
       "        vertical-align: middle;\n",
       "    }\n",
       "\n",
       "    .dataframe tbody tr th {\n",
       "        vertical-align: top;\n",
       "    }\n",
       "\n",
       "    .dataframe thead th {\n",
       "        text-align: right;\n",
       "    }\n",
       "</style>\n",
       "<table border=\"1\" class=\"dataframe\">\n",
       "  <thead>\n",
       "    <tr style=\"text-align: right;\">\n",
       "      <th></th>\n",
       "      <th>Provider</th>\n",
       "      <th>Facility</th>\n",
       "      <th>Shift</th>\n",
       "      <th>Date</th>\n",
       "      <th>Day</th>\n",
       "      <th>Time</th>\n",
       "      <th>Work_hrs</th>\n",
       "      <th>Scheduled_hrs</th>\n",
       "      <th>Comments</th>\n",
       "    </tr>\n",
       "  </thead>\n",
       "  <tbody>\n",
       "    <tr>\n",
       "      <th>6395</th>\n",
       "      <td>Shuai Zhao</td>\n",
       "      <td>SRDHWF</td>\n",
       "      <td>F.N</td>\n",
       "      <td>10/21/2023</td>\n",
       "      <td>Sat</td>\n",
       "      <td>7p - 7a</td>\n",
       "      <td>12.0</td>\n",
       "      <td>12.0</td>\n",
       "      <td>NaN</td>\n",
       "    </tr>\n",
       "    <tr>\n",
       "      <th>6396</th>\n",
       "      <td>Shuai Zhao</td>\n",
       "      <td>SRDHWF</td>\n",
       "      <td>F.D</td>\n",
       "      <td>11/11/2023</td>\n",
       "      <td>Sat</td>\n",
       "      <td>7a - 7p</td>\n",
       "      <td>12.0</td>\n",
       "      <td>12.0</td>\n",
       "      <td>NaN</td>\n",
       "    </tr>\n",
       "    <tr>\n",
       "      <th>6397</th>\n",
       "      <td>Shuai Zhao</td>\n",
       "      <td>SRDHWF</td>\n",
       "      <td>F.D</td>\n",
       "      <td>11/16/2023</td>\n",
       "      <td>Thu</td>\n",
       "      <td>7a - 7p</td>\n",
       "      <td>12.0</td>\n",
       "      <td>12.0</td>\n",
       "      <td>NaN</td>\n",
       "    </tr>\n",
       "  </tbody>\n",
       "</table>\n",
       "</div>"
      ],
      "text/plain": [
       "        Provider Facility Shift        Date  Day     Time  Work_hrs  \\\n",
       "6395  Shuai Zhao   SRDHWF   F.N  10/21/2023  Sat  7p - 7a      12.0   \n",
       "6396  Shuai Zhao   SRDHWF   F.D  11/11/2023  Sat  7a - 7p      12.0   \n",
       "6397  Shuai Zhao   SRDHWF   F.D  11/16/2023  Thu  7a - 7p      12.0   \n",
       "\n",
       "      Scheduled_hrs Comments  \n",
       "6395           12.0      NaN  \n",
       "6396           12.0      NaN  \n",
       "6397           12.0      NaN  "
      ]
     },
     "execution_count": 72,
     "metadata": {},
     "output_type": "execute_result"
    }
   ],
   "source": [
    "df.tail(3)"
   ]
  },
  {
   "cell_type": "code",
   "execution_count": 73,
   "metadata": {},
   "outputs": [],
   "source": [
    "df.Date = pd.to_datetime(df.Date)       #change Date to datetime dtype\n",
    "df['Time'] = df['Time'].astype(str)     #Ensure df.Time is a str\n",
    "df.Provider = df.Provider.str.title()\\\n",
    "    .astype(str)                        #Format Provider names to be title()\n"
   ]
  },
  {
   "cell_type": "code",
   "execution_count": 96,
   "metadata": {},
   "outputs": [
    {
     "data": {
      "text/plain": [
       "'2021-11-24'"
      ]
     },
     "execution_count": 96,
     "metadata": {},
     "output_type": "execute_result"
    }
   ],
   "source": [
    "df.Date.min().strftime('%Y-%m-%d')"
   ]
  },
  {
   "cell_type": "code",
   "execution_count": 75,
   "metadata": {},
   "outputs": [
    {
     "data": {
      "text/html": [
       "<div>\n",
       "<style scoped>\n",
       "    .dataframe tbody tr th:only-of-type {\n",
       "        vertical-align: middle;\n",
       "    }\n",
       "\n",
       "    .dataframe tbody tr th {\n",
       "        vertical-align: top;\n",
       "    }\n",
       "\n",
       "    .dataframe thead th {\n",
       "        text-align: right;\n",
       "    }\n",
       "</style>\n",
       "<table border=\"1\" class=\"dataframe\">\n",
       "  <thead>\n",
       "    <tr style=\"text-align: right;\">\n",
       "      <th></th>\n",
       "      <th>Provider</th>\n",
       "      <th>Facility</th>\n",
       "      <th>Shift</th>\n",
       "      <th>Date</th>\n",
       "      <th>Day</th>\n",
       "      <th>Time</th>\n",
       "      <th>Work_hrs</th>\n",
       "      <th>Scheduled_hrs</th>\n",
       "      <th>Comments</th>\n",
       "    </tr>\n",
       "  </thead>\n",
       "  <tbody>\n",
       "    <tr>\n",
       "      <th>2</th>\n",
       "      <td>Franklin Alconcel</td>\n",
       "      <td>SRDHBD</td>\n",
       "      <td>B.N</td>\n",
       "      <td>2022-08-26</td>\n",
       "      <td>Fri</td>\n",
       "      <td>6:30p - 7a</td>\n",
       "      <td>12.5</td>\n",
       "      <td>12.5</td>\n",
       "      <td>NaN</td>\n",
       "    </tr>\n",
       "    <tr>\n",
       "      <th>166</th>\n",
       "      <td>Franklin Alconcel</td>\n",
       "      <td>SRDHWF</td>\n",
       "      <td>F.N</td>\n",
       "      <td>2023-02-16</td>\n",
       "      <td>Thu</td>\n",
       "      <td>5p - 7a</td>\n",
       "      <td>14.0</td>\n",
       "      <td>12.0</td>\n",
       "      <td>NaN</td>\n",
       "    </tr>\n",
       "    <tr>\n",
       "      <th>208</th>\n",
       "      <td>Lance Allgower</td>\n",
       "      <td>SRDHBD</td>\n",
       "      <td>B.D</td>\n",
       "      <td>2022-06-14</td>\n",
       "      <td>Tue</td>\n",
       "      <td>1p - 7p</td>\n",
       "      <td>6.0</td>\n",
       "      <td>6.0</td>\n",
       "      <td>NaN</td>\n",
       "    </tr>\n",
       "    <tr>\n",
       "      <th>232</th>\n",
       "      <td>Lance Allgower</td>\n",
       "      <td>SRDHWF</td>\n",
       "      <td>F.D</td>\n",
       "      <td>2022-02-14</td>\n",
       "      <td>Mon</td>\n",
       "      <td>4:30a - 7p</td>\n",
       "      <td>14.5</td>\n",
       "      <td>12.0</td>\n",
       "      <td>NaN</td>\n",
       "    </tr>\n",
       "    <tr>\n",
       "      <th>237</th>\n",
       "      <td>Lance Allgower</td>\n",
       "      <td>SRDHWF</td>\n",
       "      <td>F.D</td>\n",
       "      <td>2023-04-11</td>\n",
       "      <td>Tue</td>\n",
       "      <td>1:30p - 7p</td>\n",
       "      <td>5.5</td>\n",
       "      <td>5.5</td>\n",
       "      <td>NaN</td>\n",
       "    </tr>\n",
       "    <tr>\n",
       "      <th>...</th>\n",
       "      <td>...</td>\n",
       "      <td>...</td>\n",
       "      <td>...</td>\n",
       "      <td>...</td>\n",
       "      <td>...</td>\n",
       "      <td>...</td>\n",
       "      <td>...</td>\n",
       "      <td>...</td>\n",
       "      <td>...</td>\n",
       "    </tr>\n",
       "    <tr>\n",
       "      <th>6153</th>\n",
       "      <td>Harold Woo</td>\n",
       "      <td>SRDHBD</td>\n",
       "      <td>B.D</td>\n",
       "      <td>2023-11-29</td>\n",
       "      <td>Wed</td>\n",
       "      <td>4a - 7p</td>\n",
       "      <td>15.0</td>\n",
       "      <td>15.0</td>\n",
       "      <td>NaN</td>\n",
       "    </tr>\n",
       "    <tr>\n",
       "      <th>6178</th>\n",
       "      <td>Harold Woo</td>\n",
       "      <td>SRDHNL</td>\n",
       "      <td>C.N</td>\n",
       "      <td>2022-10-25</td>\n",
       "      <td>Tue</td>\n",
       "      <td>6:30p - 7a</td>\n",
       "      <td>12.5</td>\n",
       "      <td>13.0</td>\n",
       "      <td>NaN</td>\n",
       "    </tr>\n",
       "    <tr>\n",
       "      <th>6194</th>\n",
       "      <td>Harold Woo</td>\n",
       "      <td>SRDHNL</td>\n",
       "      <td>C.N</td>\n",
       "      <td>2023-04-29</td>\n",
       "      <td>Sat</td>\n",
       "      <td>5p - 7a</td>\n",
       "      <td>14.0</td>\n",
       "      <td>14.0</td>\n",
       "      <td>NaN</td>\n",
       "    </tr>\n",
       "    <tr>\n",
       "      <th>6225</th>\n",
       "      <td>Harold Woo</td>\n",
       "      <td>SRDHS</td>\n",
       "      <td>S.D</td>\n",
       "      <td>2022-08-03</td>\n",
       "      <td>Wed</td>\n",
       "      <td>6a - 7p</td>\n",
       "      <td>13.0</td>\n",
       "      <td>13.0</td>\n",
       "      <td>NaN</td>\n",
       "    </tr>\n",
       "    <tr>\n",
       "      <th>6304</th>\n",
       "      <td>Harold Woo</td>\n",
       "      <td>SRDHWF</td>\n",
       "      <td>F.D</td>\n",
       "      <td>2022-11-12</td>\n",
       "      <td>Sat</td>\n",
       "      <td>5:30p - 7p</td>\n",
       "      <td>1.5</td>\n",
       "      <td>1.5</td>\n",
       "      <td>NaN</td>\n",
       "    </tr>\n",
       "  </tbody>\n",
       "</table>\n",
       "<p>110 rows × 9 columns</p>\n",
       "</div>"
      ],
      "text/plain": [
       "               Provider Facility Shift       Date  Day        Time  Work_hrs  \\\n",
       "2     Franklin Alconcel   SRDHBD   B.N 2022-08-26  Fri  6:30p - 7a      12.5   \n",
       "166   Franklin Alconcel   SRDHWF   F.N 2023-02-16  Thu     5p - 7a      14.0   \n",
       "208      Lance Allgower   SRDHBD   B.D 2022-06-14  Tue     1p - 7p       6.0   \n",
       "232      Lance Allgower   SRDHWF   F.D 2022-02-14  Mon  4:30a - 7p      14.5   \n",
       "237      Lance Allgower   SRDHWF   F.D 2023-04-11  Tue  1:30p - 7p       5.5   \n",
       "...                 ...      ...   ...        ...  ...         ...       ...   \n",
       "6153         Harold Woo   SRDHBD   B.D 2023-11-29  Wed     4a - 7p      15.0   \n",
       "6178         Harold Woo   SRDHNL   C.N 2022-10-25  Tue  6:30p - 7a      12.5   \n",
       "6194         Harold Woo   SRDHNL   C.N 2023-04-29  Sat     5p - 7a      14.0   \n",
       "6225         Harold Woo    SRDHS   S.D 2022-08-03  Wed     6a - 7p      13.0   \n",
       "6304         Harold Woo   SRDHWF   F.D 2022-11-12  Sat  5:30p - 7p       1.5   \n",
       "\n",
       "      Scheduled_hrs Comments  \n",
       "2              12.5      NaN  \n",
       "166            12.0      NaN  \n",
       "208             6.0      NaN  \n",
       "232            12.0      NaN  \n",
       "237             5.5      NaN  \n",
       "...             ...      ...  \n",
       "6153           15.0      NaN  \n",
       "6178           13.0      NaN  \n",
       "6194           14.0      NaN  \n",
       "6225           13.0      NaN  \n",
       "6304            1.5      NaN  \n",
       "\n",
       "[110 rows x 9 columns]"
      ]
     },
     "execution_count": 75,
     "metadata": {},
     "output_type": "execute_result"
    }
   ],
   "source": [
    "df.query('not Time.str.startswith(\"7\")')"
   ]
  },
  {
   "cell_type": "code",
   "execution_count": 76,
   "metadata": {},
   "outputs": [
    {
     "data": {
      "text/plain": [
       "7p - 7a        3085\n",
       "7a - 7p        3013\n",
       "7a - 8p          37\n",
       "7a - 1p          28\n",
       "1p - 7p          27\n",
       "7p - 8a          19\n",
       "7a - 7:30p       11\n",
       "6p - 7a           9\n",
       "7a - 6p           9\n",
       "7p - 7:30a        9\n",
       "7a - 8:30p        8\n",
       "7a - 11a          7\n",
       "7a - 7:45p        5\n",
       "7a - 5p           5\n",
       "7a - 2p           5\n",
       "6:30p - 7a        5\n",
       "11a - 7p          4\n",
       "2p - 7p           4\n",
       "7p - 9a           4\n",
       "7a - 9p           4\n",
       "5p - 7a           4\n",
       "8p - 7a           4\n",
       "7:30a - 7p        3\n",
       "4p - 7a           3\n",
       "7a - 1:30p        2\n",
       "7a - 7:15p        2\n",
       "10a - 7p          2\n",
       "7a - 4p           2\n",
       "5p - 7p           2\n",
       "10a - 4p          2\n",
       "7p - 6a           2\n",
       "7a - 12p          2\n",
       "7:30p - 7a        2\n",
       "7a - 6:30p        2\n",
       "10p - 7a          2\n",
       "7:15a - 7p        2\n",
       "12p - 7p          2\n",
       "1:30p - 7p        2\n",
       "6:30a - 7p        2\n",
       "7a - 5:30p        2\n",
       "7p - 8:30a        1\n",
       "7p - 1a           1\n",
       "10a - 10p         1\n",
       "10a - 1:30p       1\n",
       "7a - 10p          1\n",
       "9:45a - 7p        1\n",
       "8a - 7p           1\n",
       "6a - 4p           1\n",
       "7a - 11p          1\n",
       "7:15p - 7a        1\n",
       "Name: Time, dtype: int64"
      ]
     },
     "execution_count": 76,
     "metadata": {},
     "output_type": "execute_result"
    }
   ],
   "source": [
    "df.Time.value_counts().head(50)"
   ]
  },
  {
   "cell_type": "code",
   "execution_count": 77,
   "metadata": {},
   "outputs": [
    {
     "data": {
      "text/plain": [
       "S.D           812\n",
       "B.D           806\n",
       "F.D           803\n",
       "C.D           798\n",
       "F.N           796\n",
       "C.N           793\n",
       "B.N           792\n",
       "S.N           791\n",
       "S.Float         2\n",
       "N.Float         2\n",
       "B.Float         2\n",
       "Cr_Retreat      1\n",
       "Name: Shift, dtype: int64"
      ]
     },
     "execution_count": 77,
     "metadata": {},
     "output_type": "execute_result"
    }
   ],
   "source": [
    "df.Shift.value_counts()"
   ]
  },
  {
   "cell_type": "code",
   "execution_count": 78,
   "metadata": {},
   "outputs": [
    {
     "data": {
      "text/plain": [
       "array([nan, 'Worked time change: No relief in AM.',\n",
       "       'Worked time change: High volume dispo of patients',\n",
       "       'Worked time change: Complex laceration / nail procedure',\n",
       "       'Worked time change: Dispo of patients/ patient care',\n",
       "       'Worked time change: Stab wound to the chest at the end of the shift. Needed Chest tube, stabilization and transfer',\n",
       "       'Worked time change: Only 6 hours',\n",
       "       'Worked time change: reducing an end of shift shoulder dislocation',\n",
       "       'Worked time change: Slaughter late coming in',\n",
       "       'Worked time change: LaCalle late',\n",
       "       'Worked time change: Came in 1 hr early to relieve farino. Bennett 15 min late',\n",
       "       'Worked time change: Relieved sheep 1hr early',\n",
       "       'Time change comment: AP coverage at NLV',\n",
       "       'Worked time change: Relieved Dr. Jobes early.',\n",
       "       'Worked time change: Relief late',\n",
       "       'Worked time change: orienting new provider',\n",
       "       'Worked time change: Started to relieve Rushton early',\n",
       "       'Worked time change: Large bolus, stayed to help out with volumes and dispos',\n",
       "       'Worked time change: stayed to dispo',\n",
       "       'Worked time change: high volumes.  stayed to help',\n",
       "       'Worked time change: Day doc arrived late',\n",
       "       'Worked time change: stayed to help discharge patients',\n",
       "       'Worked time change: End of shift surge.  Stayed to care for patient; Worked time change: End of shift surge.  Stayed to care for patient',\n",
       "       'Worked time change: stayed to actively care for patients during a surge',\n",
       "       'Worked time change: Stayed to dispo patients',\n",
       "       'Worked time change: High volume day and stayed to care for PTs',\n",
       "       'Worked time change: stayed to dispo patients',\n",
       "       'Worked time change: High volume',\n",
       "       'Worked time change: stayed for patient care',\n",
       "       'Worked time change: busy day and stayed to disposition patients',\n",
       "       'Worked time change: Stayed to provide patient care',\n",
       "       'Worked time change: Stay to provide patient care',\n",
       "       'Worked time change: clinical rush at end of shift and stayed to dispo and help night doc',\n",
       "       'Worked time change: High acuity at end of shift and stayed to care for patient',\n",
       "       'Worked time change: stayed to help dspo',\n",
       "       'Worked time change: 50 patients and stayed to assist night doc',\n",
       "       'Worked time change: High volume day and stayed to manage flow',\n",
       "       'Worked time change: miserable day. high volume , high transfer, high procedure and stayed to manage patients',\n",
       "       'Worked time change: stayed to provide patient care',\n",
       "       'Worked time change: stayed to dispo patients; Worked time change: stayed to dispo patients',\n",
       "       'Worked time change: stayed to disposition patients',\n",
       "       'Worked time change: direct patient care',\n",
       "       'Worked time change: Busy day and stayed to dispo patients',\n",
       "       'Worked time change: Stayed to care for patients',\n",
       "       'Worked time change: Stayed til 11p so Ren could come in at 11p',\n",
       "       'Worked time change: Tension PTX and Cardioversions X 2',\n",
       "       'Time change comment: Thanks for coming in at 6pm',\n",
       "       'Worked time change: Covered for Dr. Kim who ran late'],\n",
       "      dtype=object)"
      ]
     },
     "execution_count": 78,
     "metadata": {},
     "output_type": "execute_result"
    }
   ],
   "source": [
    "df.Comments.unique()"
   ]
  },
  {
   "cell_type": "code",
   "execution_count": 79,
   "metadata": {},
   "outputs": [
    {
     "data": {
      "text/html": [
       "<div>\n",
       "<style scoped>\n",
       "    .dataframe tbody tr th:only-of-type {\n",
       "        vertical-align: middle;\n",
       "    }\n",
       "\n",
       "    .dataframe tbody tr th {\n",
       "        vertical-align: top;\n",
       "    }\n",
       "\n",
       "    .dataframe thead th {\n",
       "        text-align: right;\n",
       "    }\n",
       "</style>\n",
       "<table border=\"1\" class=\"dataframe\">\n",
       "  <thead>\n",
       "    <tr style=\"text-align: right;\">\n",
       "      <th></th>\n",
       "      <th>Provider</th>\n",
       "      <th>Facility</th>\n",
       "      <th>Shift</th>\n",
       "      <th>Date</th>\n",
       "      <th>Day</th>\n",
       "      <th>Time</th>\n",
       "      <th>Work_hrs</th>\n",
       "      <th>Scheduled_hrs</th>\n",
       "      <th>Comments</th>\n",
       "    </tr>\n",
       "  </thead>\n",
       "  <tbody>\n",
       "    <tr>\n",
       "      <th>6393</th>\n",
       "      <td>Anne Sinnott</td>\n",
       "      <td>SRDHS</td>\n",
       "      <td>S.N</td>\n",
       "      <td>2023-11-30</td>\n",
       "      <td>Thu</td>\n",
       "      <td>7p - 7a</td>\n",
       "      <td>12.0</td>\n",
       "      <td>12.0</td>\n",
       "      <td>NaN</td>\n",
       "    </tr>\n",
       "    <tr>\n",
       "      <th>6394</th>\n",
       "      <td>Michael Blum</td>\n",
       "      <td>SRDHNL</td>\n",
       "      <td>C.D</td>\n",
       "      <td>2023-11-30</td>\n",
       "      <td>Thu</td>\n",
       "      <td>7a - 7p</td>\n",
       "      <td>12.0</td>\n",
       "      <td>12.0</td>\n",
       "      <td>NaN</td>\n",
       "    </tr>\n",
       "    <tr>\n",
       "      <th>6395</th>\n",
       "      <td>Jason Klein</td>\n",
       "      <td>SRDHBD</td>\n",
       "      <td>B.N</td>\n",
       "      <td>2023-11-30</td>\n",
       "      <td>Thu</td>\n",
       "      <td>7p - 7a</td>\n",
       "      <td>12.0</td>\n",
       "      <td>12.0</td>\n",
       "      <td>NaN</td>\n",
       "    </tr>\n",
       "    <tr>\n",
       "      <th>6396</th>\n",
       "      <td>Krystal Ribeiro</td>\n",
       "      <td>SRDHS</td>\n",
       "      <td>S.D</td>\n",
       "      <td>2023-11-30</td>\n",
       "      <td>Thu</td>\n",
       "      <td>7a - 7p</td>\n",
       "      <td>12.0</td>\n",
       "      <td>12.0</td>\n",
       "      <td>NaN</td>\n",
       "    </tr>\n",
       "    <tr>\n",
       "      <th>6397</th>\n",
       "      <td>John Kim</td>\n",
       "      <td>SRDHNL</td>\n",
       "      <td>C.N</td>\n",
       "      <td>2023-11-30</td>\n",
       "      <td>Thu</td>\n",
       "      <td>7p - 7a</td>\n",
       "      <td>12.0</td>\n",
       "      <td>12.0</td>\n",
       "      <td>NaN</td>\n",
       "    </tr>\n",
       "  </tbody>\n",
       "</table>\n",
       "</div>"
      ],
      "text/plain": [
       "             Provider Facility Shift       Date  Day     Time  Work_hrs  \\\n",
       "6393     Anne Sinnott    SRDHS   S.N 2023-11-30  Thu  7p - 7a      12.0   \n",
       "6394     Michael Blum   SRDHNL   C.D 2023-11-30  Thu  7a - 7p      12.0   \n",
       "6395      Jason Klein   SRDHBD   B.N 2023-11-30  Thu  7p - 7a      12.0   \n",
       "6396  Krystal Ribeiro    SRDHS   S.D 2023-11-30  Thu  7a - 7p      12.0   \n",
       "6397         John Kim   SRDHNL   C.N 2023-11-30  Thu  7p - 7a      12.0   \n",
       "\n",
       "      Scheduled_hrs Comments  \n",
       "6393           12.0      NaN  \n",
       "6394           12.0      NaN  \n",
       "6395           12.0      NaN  \n",
       "6396           12.0      NaN  \n",
       "6397           12.0      NaN  "
      ]
     },
     "execution_count": 79,
     "metadata": {},
     "output_type": "execute_result"
    }
   ],
   "source": [
    "\n",
    "grouped = df.sort_values(by='Date').reset_index(drop=True)\n",
    "grouped.tail()"
   ]
  },
  {
   "cell_type": "code",
   "execution_count": 80,
   "metadata": {},
   "outputs": [],
   "source": [
    "# GROUP OF FXNS returning dates\n",
    "def get_thanksgiving_date(year):\n",
    "    # Start with November 1st of the given year\n",
    "    date = dt.date(year, 11, 1)\n",
    "\n",
    "    # Find the first Thursday\n",
    "    while date.weekday() != 3:  # Thursday is represented by 3\n",
    "        date += dt.timedelta(days=1)\n",
    "    # Add three weeks to get to the fourth Thursday (Thanksgiving)\n",
    "    date += dt.timedelta(weeks=3)\n",
    "\n",
    "    return date\n",
    "\n",
    "def get_thanksgiving_eve_date(year):\n",
    "    date = get_thanksgiving_date(year) \n",
    "    date -= dt.timedelta(days=1)\n",
    "    return date\n",
    "\n",
    "def get_christmas_eve_date(year):\n",
    "    # Add year to 12-24 \n",
    "    return dt.date(year, 12, 24)\n",
    "\n",
    "def get_christmas_date(year):\n",
    "    # Add year to 12-25\n",
    "    return dt.date(year, 12,25)\n",
    "\n",
    "def get_new_years_eve_date(year):\n",
    "    return dt.date(year, 12,31)\n",
    "\n",
    "def get_new_years_date(year):\n",
    "    # returns the NEXT year \n",
    "    year += 1\n",
    "    return dt.date(year, 1, 1)\n",
    "    \n",
    "def get_mothers_day_date(year):\n",
    "\n",
    "    date = dt.date(year, 5, 1)\n",
    "    #first Sunday in may as 6\n",
    "    while date.weekday() != 6:\n",
    "        date += dt.timedelta(days=1)\n",
    "    # add one week to get to 2nd sunday in may\n",
    "    date += dt.timedelta(weeks=1)\n",
    "    return date\n",
    "\n",
    "def get_halloween_date(year):\n",
    "    return dt.date(year, 10, 31)\n",
    "\n",
    "\n",
    "\n"
   ]
  },
  {
   "cell_type": "code",
   "execution_count": 81,
   "metadata": {},
   "outputs": [
    {
     "name": "stdout",
     "output_type": "stream",
     "text": [
      "['2021-11-25', '2021-11-24', '2021-12-24', '2021-12-25', '2021-12-31', '2022-01-01']\n"
     ]
    }
   ],
   "source": [
    "# save holiday dates.  \n",
    "major_holidays = [\n",
    "    get_thanksgiving_date,\n",
    "    get_thanksgiving_eve_date,\n",
    "    get_christmas_eve_date,\n",
    "    get_christmas_date,\n",
    "    get_new_years_eve_date,\n",
    "    get_new_years_date,]\n",
    "\n",
    "minor_holidays = [\n",
    "    get_mothers_day_date,\n",
    "    get_halloween_date,\n",
    "]\n",
    "\n",
    "def get_datelist_asstring(holiday_list_fxns, year):\n",
    "    date_list_asstring=[]\n",
    "    for fxn in holiday_list_fxns:\n",
    "        date_list_asstring.append(fxn(year).strftime('%Y-%m-%d'))\n",
    "    return date_list_asstring\n",
    "\n",
    "datelist = get_datelist_asstring(major_holidays, 2021)\n",
    "\n",
    "print(datelist)\n",
    "# groupby dates. \n",
    "\n",
    "# concat minor holidays (if desired)\n",
    "# stats on holidays worked\n",
    "    # "
   ]
  },
  {
   "cell_type": "code",
   "execution_count": 98,
   "metadata": {},
   "outputs": [
    {
     "name": "stdout",
     "output_type": "stream",
     "text": [
      "True\n",
      "True\n",
      "False\n",
      "False\n",
      "False\n",
      "False\n"
     ]
    }
   ],
   "source": [
    "beg_date = '2021-10-30'\n",
    "end_date = '2021-12-20'\n",
    "\n",
    "date_range= pd.date_range(start=beg_date, end=end_date)\n",
    "\n",
    "for d in datelist:\n",
    "    print(d in date_range)"
   ]
  },
  {
   "cell_type": "code",
   "execution_count": 82,
   "metadata": {},
   "outputs": [
    {
     "name": "stdout",
     "output_type": "stream",
     "text": [
      "<class 'pandas.core.frame.DataFrame'>\n",
      "Int64Index: 48 entries, 434 to 6101\n",
      "Data columns (total 9 columns):\n",
      " #   Column         Non-Null Count  Dtype         \n",
      "---  ------         --------------  -----         \n",
      " 0   Provider       48 non-null     object        \n",
      " 1   Facility       48 non-null     object        \n",
      " 2   Shift          48 non-null     object        \n",
      " 3   Date           48 non-null     datetime64[ns]\n",
      " 4   Day            48 non-null     object        \n",
      " 5   Time           48 non-null     object        \n",
      " 6   Work_hrs       48 non-null     float64       \n",
      " 7   Scheduled_hrs  48 non-null     float64       \n",
      " 8   Comments       1 non-null      object        \n",
      "dtypes: datetime64[ns](1), float64(2), object(6)\n",
      "memory usage: 3.8+ KB\n"
     ]
    }
   ],
   "source": [
    "def concat_df(df_1, df_2):\n",
    "    return  pd.concat([df_1, df_2], axis= 0)\n",
    "\n",
    "def query_df(date):\n",
    "    date = date\n",
    "    return df.query('Date == @date')\n",
    "\n",
    "# query/filter  major holidays\n",
    "def compile_df_in_datelist(datelist):\n",
    "    df = query_df(datelist[0])\n",
    "    for date in datelist[1:]:\n",
    "        df = concat_df(df, query_df(date))\n",
    "    return df\n",
    "\n",
    "df = compile_df_in_datelist(datelist)  #  IT WORKS\n",
    "df.info()\n",
    "    "
   ]
  },
  {
   "cell_type": "code",
   "execution_count": 83,
   "metadata": {},
   "outputs": [],
   "source": [
    "def value_count_Provider(df_t):\n",
    "    df_t = df_t.sort_values(by='Provider')\n",
    "    df_t = df_t.reset_index(drop=True) \n",
    "    df_t = df_t.Provider\n",
    "    return df_t.value_counts()\n"
   ]
  },
  {
   "cell_type": "code",
   "execution_count": 84,
   "metadata": {},
   "outputs": [
    {
     "name": "stdout",
     "output_type": "stream",
     "text": [
      "Jason Jones          5\n",
      "Norlan Maltez        4\n",
      "Patricia Kahn        4\n",
      "Patrick Noone        4\n",
      "Sabrina Taylor       4\n",
      "Sagar Patel          4\n",
      "Anne Sinnott         3\n",
      "Jason Klein          3\n",
      "John Jobes           3\n",
      "Joseph Kim           3\n",
      "Adam Berkovits       2\n",
      "Harold Woo           2\n",
      "Joshua Imakyure      2\n",
      "Krystal Ribeiro      2\n",
      "William Halacoglu    2\n",
      "Irena Vitkovitsky    1\n",
      "Name: Provider, dtype: int64\n"
     ]
    }
   ],
   "source": [
    "print(value_count_Provider(df))"
   ]
  },
  {
   "cell_type": "code",
   "execution_count": 89,
   "metadata": {},
   "outputs": [
    {
     "data": {
      "text/plain": [
       "Jason Jones          5\n",
       "Norlan Maltez        4\n",
       "Patricia Kahn        4\n",
       "Patrick Noone        4\n",
       "Sabrina Taylor       4\n",
       "Sagar Patel          4\n",
       "Anne Sinnott         3\n",
       "Jason Klein          3\n",
       "John Jobes           3\n",
       "Joseph Kim           3\n",
       "Adam Berkovits       2\n",
       "Harold Woo           2\n",
       "Joshua Imakyure      2\n",
       "Krystal Ribeiro      2\n",
       "William Halacoglu    2\n",
       "Irena Vitkovitsky    1\n",
       "Name: Provider, dtype: int64"
      ]
     },
     "execution_count": 89,
     "metadata": {},
     "output_type": "execute_result"
    }
   ],
   "source": [
    "# sorts a concatenated list by Provider\n",
    "# resets the index\n",
    "# Filters only the Provider column\n",
    "# and value_counts the provider.  \n",
    "df.sort_values(by='Provider').reset_index(drop=True)\\\n",
    "    .Provider.value_counts()"
   ]
  }
 ],
 "metadata": {
  "kernelspec": {
   "display_name": "Python 3",
   "language": "python",
   "name": "python3"
  },
  "language_info": {
   "codemirror_mode": {
    "name": "ipython",
    "version": 3
   },
   "file_extension": ".py",
   "mimetype": "text/x-python",
   "name": "python",
   "nbconvert_exporter": "python",
   "pygments_lexer": "ipython3",
   "version": "3.9.12"
  },
  "orig_nbformat": 4
 },
 "nbformat": 4,
 "nbformat_minor": 2
}
